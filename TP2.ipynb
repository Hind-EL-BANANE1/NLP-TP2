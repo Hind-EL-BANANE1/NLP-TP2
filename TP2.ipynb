{
  "nbformat": 4,
  "nbformat_minor": 0,
  "metadata": {
    "colab": {
      "name": "TP2",
      "provenance": []
    },
    "kernelspec": {
      "name": "python3",
      "display_name": "Python 3"
    },
    "language_info": {
      "name": "python"
    }
  },
  "cells": [
    {
      "cell_type": "code",
      "metadata": {
        "colab": {
          "base_uri": "https://localhost:8080/"
        },
        "id": "LpOiABOYoW15",
        "outputId": "212a40dd-6f28-4c9f-bf19-6620ffb54fbf"
      },
      "source": [
        "DATA = [        \n",
        "\"\"\"Perhaps one of the most significant advances made by Arabic mathematics began at this time with the work of al-Khwarizmi, namely\n",
        "the beginnings of algebra. It is important to understand just how significant this new idea was. It was a revolutionary move away from\n",
        "the Greek concept of mathematics which was essentially geometry. Algebra was a unifying theory which allowed rational\n",
        "numbers, irrational numbers, geometrical magnitudes, etc., to all be treated as \"algebraic objects\". It gave mathematics a whole new\n",
        "development path so much broader in concept to that which had existed before, and provided a vehicle for future development of the\n",
        "subject. Another important aspect of the introduction of algebraic ideas was that it allowed mathematics to be applied to itself in a\n",
        "way which had not happened before.\"\"\",\n",
        "\n",
        " \"\"\"ربما كانت أحد أهم التطورات التي قامت بها الرياضيات العربية التي بدأت في هذا الوقت بعمل الخوارزمي  وهي بدايات الجبر،ومن المهم فهم كيف كانت هذه الفكرة الجديدة مهمة، فقد كانت خطوة ثورية بعيدا عن\n",
        "المفهوم اليوناني للرياضيات التي هي في جوهرها  هندسة، الجبركان نظرية موحدة تتحيح الأعداد الكسرية و الأعداد اللا كسرية ، والمقادير الهندسية و غيرها ، أن تتعامل على أنها أجسام جبرية، و أعطت الرياضيات ككل مسارا جديدًا للتطوربمفهوم \n",
        " أوسع بكثير من الذي كان موجودًا من قبل ، وقدم وسيلة للتنمية في هذا الموضوع مستقبلا .و جانب آخر مهم لإدخال أفكار الجبر و هو أنه سمح بتطبيق الرياضيات على نفسها \n",
        "بطريقة  لم تحدث من قبل.\"\"\"\n",
        "]\n",
        "\n",
        "print(DATA)"
      ],
      "execution_count": 1,
      "outputs": [
        {
          "output_type": "stream",
          "name": "stdout",
          "text": [
            "['Perhaps one of the most significant advances made by Arabic mathematics began at this time with the work of al-Khwarizmi, namely\\nthe beginnings of algebra. It is important to understand just how significant this new idea was. It was a revolutionary move away from\\nthe Greek concept of mathematics which was essentially geometry. Algebra was a unifying theory which allowed rational\\nnumbers, irrational numbers, geometrical magnitudes, etc., to all be treated as \"algebraic objects\". It gave mathematics a whole new\\ndevelopment path so much broader in concept to that which had existed before, and provided a vehicle for future development of the\\nsubject. Another important aspect of the introduction of algebraic ideas was that it allowed mathematics to be applied to itself in a\\nway which had not happened before.', 'ربما كانت أحد أهم التطورات التي قامت بها الرياضيات العربية التي بدأت في هذا الوقت بعمل الخوارزمي  وهي بدايات الجبر،ومن المهم فهم كيف كانت هذه الفكرة الجديدة مهمة، فقد كانت خطوة ثورية بعيدا عن\\nالمفهوم اليوناني للرياضيات التي هي في جوهرها  هندسة، الجبركان نظرية موحدة تتحيح الأعداد الكسرية و الأعداد اللا كسرية ، والمقادير الهندسية و غيرها ، أن تتعامل على أنها أجسام جبرية، و أعطت الرياضيات ككل مسارا جديدًا للتطوربمفهوم \\n أوسع بكثير من الذي كان موجودًا من قبل ، وقدم وسيلة للتنمية في هذا الموضوع مستقبلا .و جانب آخر مهم لإدخال أفكار الجبر و هو أنه سمح بتطبيق الرياضيات على نفسها \\nبطريقة  لم تحدث من قبل.']\n"
          ]
        }
      ]
    },
    {
      "cell_type": "code",
      "metadata": {
        "colab": {
          "base_uri": "https://localhost:8080/"
        },
        "id": "UCvyhQuMohM8",
        "outputId": "e212deda-63b6-4765-d591-34e20a03d4b1"
      },
      "source": [
        "!pip install gensim"
      ],
      "execution_count": 2,
      "outputs": [
        {
          "output_type": "stream",
          "name": "stdout",
          "text": [
            "Requirement already satisfied: gensim in /usr/local/lib/python3.7/dist-packages (3.6.0)\n",
            "Requirement already satisfied: smart-open>=1.2.1 in /usr/local/lib/python3.7/dist-packages (from gensim) (5.1.0)\n",
            "Requirement already satisfied: numpy>=1.11.3 in /usr/local/lib/python3.7/dist-packages (from gensim) (1.19.5)\n",
            "Requirement already satisfied: six>=1.5.0 in /usr/local/lib/python3.7/dist-packages (from gensim) (1.15.0)\n",
            "Requirement already satisfied: scipy>=0.18.1 in /usr/local/lib/python3.7/dist-packages (from gensim) (1.4.1)\n"
          ]
        }
      ]
    },
    {
      "cell_type": "markdown",
      "metadata": {
        "id": "URlRpzM3onSM"
      },
      "source": [
        "***traitement de données***"
      ]
    },
    {
      "cell_type": "code",
      "metadata": {
        "colab": {
          "base_uri": "https://localhost:8080/"
        },
        "id": "vAQgqnHeoo40",
        "outputId": "bb25c30f-994a-4ac0-e447-cc7c5dd1f3e9"
      },
      "source": [
        "import string\n",
        "import nltk\n",
        "import re\n",
        "from nltk.corpus import stopwords\n",
        "nltk.download('stopwords')\n",
        "from nltk.tokenize import word_tokenize\n",
        "nltk.download('punkt')\n",
        "ponctuation = '''`÷×؛<>_()*&^%][ـ،/:\"؟.,'{}~¦+|!”…“–ـ''' + string.punctuation  \n",
        "\n",
        "def Punctuation(sentence):\n",
        "  sentence = sentence.lower()\n",
        "  cleanSentence = ''.join([item for item in sentence if item not in ponctuation ])\n",
        "  return cleanSentence\n",
        "  \n",
        "def sentenceTokenize(sent):\n",
        "  return word_tokenize(sent)\n",
        "  \n",
        "TOKENLIST = sentenceTokenize(Punctuation(DATA[0]))\n",
        "print(TOKENLIST)"
      ],
      "execution_count": 4,
      "outputs": [
        {
          "output_type": "stream",
          "name": "stdout",
          "text": [
            "[nltk_data] Downloading package stopwords to /root/nltk_data...\n",
            "[nltk_data]   Package stopwords is already up-to-date!\n",
            "[nltk_data] Downloading package punkt to /root/nltk_data...\n",
            "[nltk_data]   Package punkt is already up-to-date!\n",
            "['perhaps', 'one', 'of', 'the', 'most', 'significant', 'advances', 'made', 'by', 'arabic', 'mathematics', 'began', 'at', 'this', 'time', 'with', 'the', 'work', 'of', 'alkhwarizmi', 'namely', 'the', 'beginnings', 'of', 'algebra', 'it', 'is', 'important', 'to', 'understand', 'just', 'how', 'significant', 'this', 'new', 'idea', 'was', 'it', 'was', 'a', 'revolutionary', 'move', 'away', 'from', 'the', 'greek', 'concept', 'of', 'mathematics', 'which', 'was', 'essentially', 'geometry', 'algebra', 'was', 'a', 'unifying', 'theory', 'which', 'allowed', 'rational', 'numbers', 'irrational', 'numbers', 'geometrical', 'magnitudes', 'etc', 'to', 'all', 'be', 'treated', 'as', 'algebraic', 'objects', 'it', 'gave', 'mathematics', 'a', 'whole', 'new', 'development', 'path', 'so', 'much', 'broader', 'in', 'concept', 'to', 'that', 'which', 'had', 'existed', 'before', 'and', 'provided', 'a', 'vehicle', 'for', 'future', 'development', 'of', 'the', 'subject', 'another', 'important', 'aspect', 'of', 'the', 'introduction', 'of', 'algebraic', 'ideas', 'was', 'that', 'it', 'allowed', 'mathematics', 'to', 'be', 'applied', 'to', 'itself', 'in', 'a', 'way', 'which', 'had', 'not', 'happened', 'before']\n"
          ]
        }
      ]
    },
    {
      "cell_type": "markdown",
      "metadata": {
        "id": "XUbUH0oZo0v0"
      },
      "source": [
        "***WordToVec***"
      ]
    },
    {
      "cell_type": "code",
      "metadata": {
        "id": "fID28lPIo9Z9"
      },
      "source": [
        "from gensim.models import Word2Vec,keyedvectors"
      ],
      "execution_count": 5,
      "outputs": []
    },
    {
      "cell_type": "code",
      "metadata": {
        "colab": {
          "base_uri": "https://localhost:8080/"
        },
        "id": "Bb7xwYywpPC0",
        "outputId": "1fdf9c11-8d71-4874-ca79-9a3a5bcb8be7"
      },
      "source": [
        "model = Word2Vec([TOKENLIST] , min_count=1, size=32)\n",
        "model.most_similar(\"important\")"
      ],
      "execution_count": 6,
      "outputs": [
        {
          "output_type": "stream",
          "name": "stderr",
          "text": [
            "/usr/local/lib/python3.7/dist-packages/ipykernel_launcher.py:2: DeprecationWarning: Call to deprecated `most_similar` (Method will be removed in 4.0.0, use self.wv.most_similar() instead).\n",
            "  \n"
          ]
        },
        {
          "output_type": "execute_result",
          "data": {
            "text/plain": [
              "[('vehicle', 0.4911160171031952),\n",
              " ('which', 0.4227156639099121),\n",
              " ('made', 0.32269051671028137),\n",
              " ('of', 0.3044052720069885),\n",
              " ('much', 0.28005146980285645),\n",
              " ('this', 0.27270248532295227),\n",
              " ('one', 0.2662571370601654),\n",
              " ('geometrical', 0.258832186460495),\n",
              " ('introduction', 0.2504502832889557),\n",
              " ('algebra', 0.2125256508588791)]"
            ]
          },
          "metadata": {},
          "execution_count": 6
        }
      ]
    },
    {
      "cell_type": "code",
      "metadata": {
        "colab": {
          "base_uri": "https://localhost:8080/"
        },
        "id": "lBjLv39lpS80",
        "outputId": "2772020f-2222-4a91-8f9c-15085dc03551"
      },
      "source": [
        "model.similarity(\"important\", \"mathematics\")"
      ],
      "execution_count": 7,
      "outputs": [
        {
          "output_type": "stream",
          "name": "stderr",
          "text": [
            "/usr/local/lib/python3.7/dist-packages/ipykernel_launcher.py:1: DeprecationWarning: Call to deprecated `similarity` (Method will be removed in 4.0.0, use self.wv.similarity() instead).\n",
            "  \"\"\"Entry point for launching an IPython kernel.\n"
          ]
        },
        {
          "output_type": "execute_result",
          "data": {
            "text/plain": [
              "-0.14612505"
            ]
          },
          "metadata": {},
          "execution_count": 7
        }
      ]
    },
    {
      "cell_type": "code",
      "metadata": {
        "colab": {
          "base_uri": "https://localhost:8080/"
        },
        "id": "SosWQuebpVeE",
        "outputId": "89d09c40-ca4d-4d3d-a29b-cb41da5ba13d"
      },
      "source": [
        "model.similar_by_word(\"one\")"
      ],
      "execution_count": 8,
      "outputs": [
        {
          "output_type": "stream",
          "name": "stderr",
          "text": [
            "/usr/local/lib/python3.7/dist-packages/ipykernel_launcher.py:1: DeprecationWarning: Call to deprecated `similar_by_word` (Method will be removed in 4.0.0, use self.wv.similar_by_word() instead).\n",
            "  \"\"\"Entry point for launching an IPython kernel.\n"
          ]
        },
        {
          "output_type": "execute_result",
          "data": {
            "text/plain": [
              "[('made', 0.371026873588562),\n",
              " ('introduction', 0.36795490980148315),\n",
              " ('which', 0.31550198793411255),\n",
              " ('applied', 0.29714304208755493),\n",
              " ('development', 0.27696964144706726),\n",
              " ('important', 0.2662571966648102),\n",
              " ('that', 0.26247456669807434),\n",
              " ('of', 0.25541001558303833),\n",
              " ('perhaps', 0.18935388326644897),\n",
              " ('provided', 0.16743648052215576)]"
            ]
          },
          "metadata": {},
          "execution_count": 8
        }
      ]
    },
    {
      "cell_type": "markdown",
      "metadata": {
        "id": "v9jIne9WpXdE"
      },
      "source": [
        "***CountVectorizer***"
      ]
    },
    {
      "cell_type": "code",
      "metadata": {
        "colab": {
          "base_uri": "https://localhost:8080/"
        },
        "id": "Zn0-ZakApZ2c",
        "outputId": "d776f199-d9bb-4139-ff44-3d17e163d72b"
      },
      "source": [
        "import pandas as pd\n",
        "from sklearn.feature_extraction.text import CountVectorizer\n",
        "CompteurVecteur = CountVectorizer(ngram_range=(1,1),stop_words='english')\n",
        "CompteurDATA = CompteurVecteur.fit_transform([DATA[0]])\n",
        "print(CompteurVecteur.get_feature_names())\n",
        "my_df=pd.DataFrame(CompteurDATA.toarray(),columns=CompteurVecteur.get_feature_names()).T\n",
        "my_df.head(10)\n",
        "\n",
        "[ ]\n",
        "unt_vec=CountVectorizer(token_pattern=r\"(?u)\\b\\w\\w+\\b\")\n",
        "arr = CompteurVecteur.fit_transform([DATA[1]]).toarray()\n",
        "print(arr)\n",
        "print('\\nvocabulary list:\\n')\n",
        "for key,value in CompteurVecteur.vocabulary_.items():\n",
        "    print(key,value)\n",
        "\n",
        "print(CompteurDATA)"
      ],
      "execution_count": 9,
      "outputs": [
        {
          "output_type": "stream",
          "name": "stdout",
          "text": [
            "['advances', 'al', 'algebra', 'algebraic', 'allowed', 'applied', 'arabic', 'aspect', 'away', 'began', 'beginnings', 'broader', 'concept', 'development', 'essentially', 'existed', 'future', 'gave', 'geometrical', 'geometry', 'greek', 'happened', 'idea', 'ideas', 'important', 'introduction', 'irrational', 'just', 'khwarizmi', 'magnitudes', 'mathematics', 'new', 'numbers', 'objects', 'path', 'provided', 'rational', 'revolutionary', 'significant', 'subject', 'theory', 'time', 'treated', 'understand', 'unifying', 'vehicle', 'way', 'work']\n",
            "[[1 1 1 1 1 1 1 1 1 1 2 1 3 2 1 1 1 1 3 1 1 1 1 1 1 1 1 1 1 1 1 1 1 1 1 1\n",
            "  1 1 1 1 1 1 1 1 1 1 1 1 2 1 1 1 1 3 1 2 1 3 1 1 1 1 1 1 1 1 1 1 3 1 1 1\n",
            "  1 1 1 2 1 1 1 1 1 1 1 1 1]]\n",
            "\n",
            "vocabulary list:\n",
            "\n",
            "ربما 46\n",
            "كانت 57\n",
            "أحد 2\n",
            "أهم 8\n",
            "التطورات 11\n",
            "التي 12\n",
            "قامت 54\n",
            "بها 36\n",
            "الرياضيات 18\n",
            "العربية 19\n",
            "بدأت 30\n",
            "في 53\n",
            "هذا 75\n",
            "الوقت 27\n",
            "بعمل 33\n",
            "الخوارزمي 16\n",
            "وهي 84\n",
            "بدايات 31\n",
            "الجبر 13\n",
            "ومن 83\n",
            "المهم 24\n",
            "فهم 52\n",
            "كيف 60\n",
            "هذه 76\n",
            "الفكرة 20\n",
            "الجديدة 15\n",
            "مهمة 70\n",
            "فقد 51\n",
            "خطوة 45\n",
            "ثورية 40\n",
            "بعيدا 34\n",
            "عن 49\n",
            "المفهوم 23\n",
            "اليوناني 28\n",
            "للرياضيات 64\n",
            "هي 79\n",
            "جوهرها 44\n",
            "هندسة 77\n",
            "الجبركان 14\n",
            "نظرية 73\n",
            "موحدة 72\n",
            "تتحيح 37\n",
            "الأعداد 10\n",
            "الكسرية 21\n",
            "اللا 22\n",
            "كسرية 58\n",
            "والمقادير 80\n",
            "الهندسية 26\n",
            "غيرها 50\n",
            "أن 5\n",
            "تتعامل 38\n",
            "على 48\n",
            "أنها 7\n",
            "أجسام 1\n",
            "جبرية 42\n",
            "أعطت 3\n",
            "ككل 59\n",
            "مسارا 66\n",
            "جديد 43\n",
            "للتطوربمفهوم 62\n",
            "أوسع 9\n",
            "بكثير 35\n",
            "من 68\n",
            "الذي 17\n",
            "كان 56\n",
            "موجود 71\n",
            "قبل 55\n",
            "وقدم 82\n",
            "وسيلة 81\n",
            "للتنمية 63\n",
            "الموضوع 25\n",
            "مستقبلا 67\n",
            "جانب 41\n",
            "آخر 0\n",
            "مهم 69\n",
            "لإدخال 61\n",
            "أفكار 4\n",
            "هو 78\n",
            "أنه 6\n",
            "سمح 47\n",
            "بتطبيق 29\n",
            "نفسها 74\n",
            "بطريقة 32\n",
            "لم 65\n",
            "تحدث 39\n",
            "  (0, 38)\t2\n",
            "  (0, 0)\t1\n",
            "  (0, 6)\t1\n",
            "  (0, 30)\t4\n",
            "  (0, 9)\t1\n",
            "  (0, 41)\t1\n",
            "  (0, 47)\t1\n",
            "  (0, 1)\t1\n",
            "  (0, 28)\t1\n",
            "  (0, 10)\t1\n",
            "  (0, 2)\t2\n",
            "  (0, 24)\t2\n",
            "  (0, 43)\t1\n",
            "  (0, 27)\t1\n",
            "  (0, 31)\t2\n",
            "  (0, 22)\t1\n",
            "  (0, 37)\t1\n",
            "  (0, 8)\t1\n",
            "  (0, 20)\t1\n",
            "  (0, 12)\t2\n",
            "  (0, 14)\t1\n",
            "  (0, 19)\t1\n",
            "  (0, 44)\t1\n",
            "  (0, 40)\t1\n",
            "  (0, 4)\t2\n",
            "  (0, 36)\t1\n",
            "  (0, 32)\t2\n",
            "  (0, 26)\t1\n",
            "  (0, 18)\t1\n",
            "  (0, 29)\t1\n",
            "  (0, 42)\t1\n",
            "  (0, 3)\t2\n",
            "  (0, 33)\t1\n",
            "  (0, 17)\t1\n",
            "  (0, 13)\t2\n",
            "  (0, 34)\t1\n",
            "  (0, 11)\t1\n",
            "  (0, 15)\t1\n",
            "  (0, 35)\t1\n",
            "  (0, 45)\t1\n",
            "  (0, 16)\t1\n",
            "  (0, 39)\t1\n",
            "  (0, 7)\t1\n",
            "  (0, 25)\t1\n",
            "  (0, 23)\t1\n",
            "  (0, 5)\t1\n",
            "  (0, 46)\t1\n",
            "  (0, 21)\t1\n"
          ]
        }
      ]
    },
    {
      "cell_type": "markdown",
      "metadata": {
        "id": "570UZe_SplR0"
      },
      "source": [
        "***Tfidf Vectorizer TF-IDF***"
      ]
    },
    {
      "cell_type": "code",
      "metadata": {
        "colab": {
          "base_uri": "https://localhost:8080/",
          "height": 362
        },
        "id": "1veChuyspoAc",
        "outputId": "22d37b6d-45a2-4a03-a0e0-e3f71e6cd5d8"
      },
      "source": [
        "import pandas as pd\n",
        "from sklearn.feature_extraction.text import CountVectorizer, TfidfVectorizer\n",
        "\n",
        " \n",
        "IDFVECTOR = TfidfVectorizer(use_idf=True, \n",
        "                        smooth_idf=False,  \n",
        "                        ngram_range=(1,1),stop_words='english')\n",
        "IDFDATA = IDFVECTOR.fit_transform([DATA[0]])\n",
        " \n",
        "IDFDATAframe=pd.DataFrame(IDFDATA.toarray(),columns=IDFVECTOR.get_feature_names()).T\n",
        "IDFDATAframe.head(10)"
      ],
      "execution_count": 10,
      "outputs": [
        {
          "output_type": "execute_result",
          "data": {
            "text/html": [
              "<div>\n",
              "<style scoped>\n",
              "    .dataframe tbody tr th:only-of-type {\n",
              "        vertical-align: middle;\n",
              "    }\n",
              "\n",
              "    .dataframe tbody tr th {\n",
              "        vertical-align: top;\n",
              "    }\n",
              "\n",
              "    .dataframe thead th {\n",
              "        text-align: right;\n",
              "    }\n",
              "</style>\n",
              "<table border=\"1\" class=\"dataframe\">\n",
              "  <thead>\n",
              "    <tr style=\"text-align: right;\">\n",
              "      <th></th>\n",
              "      <th>0</th>\n",
              "    </tr>\n",
              "  </thead>\n",
              "  <tbody>\n",
              "    <tr>\n",
              "      <th>advances</th>\n",
              "      <td>0.105409</td>\n",
              "    </tr>\n",
              "    <tr>\n",
              "      <th>al</th>\n",
              "      <td>0.105409</td>\n",
              "    </tr>\n",
              "    <tr>\n",
              "      <th>algebra</th>\n",
              "      <td>0.210819</td>\n",
              "    </tr>\n",
              "    <tr>\n",
              "      <th>algebraic</th>\n",
              "      <td>0.210819</td>\n",
              "    </tr>\n",
              "    <tr>\n",
              "      <th>allowed</th>\n",
              "      <td>0.210819</td>\n",
              "    </tr>\n",
              "    <tr>\n",
              "      <th>applied</th>\n",
              "      <td>0.105409</td>\n",
              "    </tr>\n",
              "    <tr>\n",
              "      <th>arabic</th>\n",
              "      <td>0.105409</td>\n",
              "    </tr>\n",
              "    <tr>\n",
              "      <th>aspect</th>\n",
              "      <td>0.105409</td>\n",
              "    </tr>\n",
              "    <tr>\n",
              "      <th>away</th>\n",
              "      <td>0.105409</td>\n",
              "    </tr>\n",
              "    <tr>\n",
              "      <th>began</th>\n",
              "      <td>0.105409</td>\n",
              "    </tr>\n",
              "  </tbody>\n",
              "</table>\n",
              "</div>"
            ],
            "text/plain": [
              "                  0\n",
              "advances   0.105409\n",
              "al         0.105409\n",
              "algebra    0.210819\n",
              "algebraic  0.210819\n",
              "allowed    0.210819\n",
              "applied    0.105409\n",
              "arabic     0.105409\n",
              "aspect     0.105409\n",
              "away       0.105409\n",
              "began      0.105409"
            ]
          },
          "metadata": {},
          "execution_count": 10
        }
      ]
    },
    {
      "cell_type": "markdown",
      "metadata": {
        "id": "k90tGpcVpqCO"
      },
      "source": [
        "***The Bag of Words***"
      ]
    },
    {
      "cell_type": "code",
      "metadata": {
        "colab": {
          "base_uri": "https://localhost:8080/",
          "height": 533
        },
        "id": "6ADB72Rypsmc",
        "outputId": "74af360b-b552-46cb-d662-2807aa0b01a8"
      },
      "source": [
        "from keras.preprocessing.text import Tokenizer\n",
        "model = Tokenizer() \n",
        "model.fit_on_texts(DATA[0])\n",
        "print(f'Key : {list(model.word_index.keys())}')\n",
        "\n",
        "print(model.word_counts)\n",
        "print(model.document_count)\n",
        "print(model.word_index)\n",
        "print(model.word_docs)\n",
        "\n",
        "text_to_vector = model.texts_to_matrix(DATA[0], mode='count')\n",
        "my_cbow_result = pd.DataFrame(text_to_vector)\n",
        "my_cbow_result"
      ],
      "execution_count": 11,
      "outputs": [
        {
          "output_type": "stream",
          "name": "stdout",
          "text": [
            "Key : ['e', 'a', 't', 'i', 'o', 'n', 'h', 'r', 's', 'c', 'm', 'l', 'd', 'w', 'b', 'f', 'p', 'g', 'u', 'y', 'v', 'k', 'j', 'z', 'x']\n",
            "OrderedDict([('p', 15), ('e', 77), ('r', 33), ('h', 35), ('a', 72), ('s', 33), ('o', 45), ('n', 38), ('f', 16), ('t', 67), ('m', 25), ('i', 52), ('g', 15), ('c', 26), ('d', 22), ('v', 8), ('b', 17), ('y', 9), ('w', 20), ('k', 3), ('l', 24), ('z', 1), ('u', 12), ('j', 3), ('x', 1)])\n",
            "814\n",
            "{'e': 1, 'a': 2, 't': 3, 'i': 4, 'o': 5, 'n': 6, 'h': 7, 'r': 8, 's': 9, 'c': 10, 'm': 11, 'l': 12, 'd': 13, 'w': 14, 'b': 15, 'f': 16, 'p': 17, 'g': 18, 'u': 19, 'y': 20, 'v': 21, 'k': 22, 'j': 23, 'z': 24, 'x': 25}\n",
            "defaultdict(<class 'int'>, {'p': 15, 'e': 77, 'r': 33, 'h': 35, 'a': 72, 's': 33, 'o': 45, 'n': 38, 'f': 16, 't': 67, 'm': 25, 'i': 52, 'g': 15, 'c': 26, 'd': 22, 'v': 8, 'b': 17, 'y': 9, 'w': 20, 'k': 3, 'l': 24, 'z': 1, 'u': 12, 'j': 3, 'x': 1})\n"
          ]
        },
        {
          "output_type": "execute_result",
          "data": {
            "text/html": [
              "<div>\n",
              "<style scoped>\n",
              "    .dataframe tbody tr th:only-of-type {\n",
              "        vertical-align: middle;\n",
              "    }\n",
              "\n",
              "    .dataframe tbody tr th {\n",
              "        vertical-align: top;\n",
              "    }\n",
              "\n",
              "    .dataframe thead th {\n",
              "        text-align: right;\n",
              "    }\n",
              "</style>\n",
              "<table border=\"1\" class=\"dataframe\">\n",
              "  <thead>\n",
              "    <tr style=\"text-align: right;\">\n",
              "      <th></th>\n",
              "      <th>0</th>\n",
              "      <th>1</th>\n",
              "      <th>2</th>\n",
              "      <th>3</th>\n",
              "      <th>4</th>\n",
              "      <th>5</th>\n",
              "      <th>6</th>\n",
              "      <th>7</th>\n",
              "      <th>8</th>\n",
              "      <th>9</th>\n",
              "      <th>10</th>\n",
              "      <th>11</th>\n",
              "      <th>12</th>\n",
              "      <th>13</th>\n",
              "      <th>14</th>\n",
              "      <th>15</th>\n",
              "      <th>16</th>\n",
              "      <th>17</th>\n",
              "      <th>18</th>\n",
              "      <th>19</th>\n",
              "      <th>20</th>\n",
              "      <th>21</th>\n",
              "      <th>22</th>\n",
              "      <th>23</th>\n",
              "      <th>24</th>\n",
              "      <th>25</th>\n",
              "    </tr>\n",
              "  </thead>\n",
              "  <tbody>\n",
              "    <tr>\n",
              "      <th>0</th>\n",
              "      <td>0.0</td>\n",
              "      <td>0.0</td>\n",
              "      <td>0.0</td>\n",
              "      <td>0.0</td>\n",
              "      <td>0.0</td>\n",
              "      <td>0.0</td>\n",
              "      <td>0.0</td>\n",
              "      <td>0.0</td>\n",
              "      <td>0.0</td>\n",
              "      <td>0.0</td>\n",
              "      <td>0.0</td>\n",
              "      <td>0.0</td>\n",
              "      <td>0.0</td>\n",
              "      <td>0.0</td>\n",
              "      <td>0.0</td>\n",
              "      <td>0.0</td>\n",
              "      <td>0.0</td>\n",
              "      <td>1.0</td>\n",
              "      <td>0.0</td>\n",
              "      <td>0.0</td>\n",
              "      <td>0.0</td>\n",
              "      <td>0.0</td>\n",
              "      <td>0.0</td>\n",
              "      <td>0.0</td>\n",
              "      <td>0.0</td>\n",
              "      <td>0.0</td>\n",
              "    </tr>\n",
              "    <tr>\n",
              "      <th>1</th>\n",
              "      <td>0.0</td>\n",
              "      <td>1.0</td>\n",
              "      <td>0.0</td>\n",
              "      <td>0.0</td>\n",
              "      <td>0.0</td>\n",
              "      <td>0.0</td>\n",
              "      <td>0.0</td>\n",
              "      <td>0.0</td>\n",
              "      <td>0.0</td>\n",
              "      <td>0.0</td>\n",
              "      <td>0.0</td>\n",
              "      <td>0.0</td>\n",
              "      <td>0.0</td>\n",
              "      <td>0.0</td>\n",
              "      <td>0.0</td>\n",
              "      <td>0.0</td>\n",
              "      <td>0.0</td>\n",
              "      <td>0.0</td>\n",
              "      <td>0.0</td>\n",
              "      <td>0.0</td>\n",
              "      <td>0.0</td>\n",
              "      <td>0.0</td>\n",
              "      <td>0.0</td>\n",
              "      <td>0.0</td>\n",
              "      <td>0.0</td>\n",
              "      <td>0.0</td>\n",
              "    </tr>\n",
              "    <tr>\n",
              "      <th>2</th>\n",
              "      <td>0.0</td>\n",
              "      <td>0.0</td>\n",
              "      <td>0.0</td>\n",
              "      <td>0.0</td>\n",
              "      <td>0.0</td>\n",
              "      <td>0.0</td>\n",
              "      <td>0.0</td>\n",
              "      <td>0.0</td>\n",
              "      <td>1.0</td>\n",
              "      <td>0.0</td>\n",
              "      <td>0.0</td>\n",
              "      <td>0.0</td>\n",
              "      <td>0.0</td>\n",
              "      <td>0.0</td>\n",
              "      <td>0.0</td>\n",
              "      <td>0.0</td>\n",
              "      <td>0.0</td>\n",
              "      <td>0.0</td>\n",
              "      <td>0.0</td>\n",
              "      <td>0.0</td>\n",
              "      <td>0.0</td>\n",
              "      <td>0.0</td>\n",
              "      <td>0.0</td>\n",
              "      <td>0.0</td>\n",
              "      <td>0.0</td>\n",
              "      <td>0.0</td>\n",
              "    </tr>\n",
              "    <tr>\n",
              "      <th>3</th>\n",
              "      <td>0.0</td>\n",
              "      <td>0.0</td>\n",
              "      <td>0.0</td>\n",
              "      <td>0.0</td>\n",
              "      <td>0.0</td>\n",
              "      <td>0.0</td>\n",
              "      <td>0.0</td>\n",
              "      <td>1.0</td>\n",
              "      <td>0.0</td>\n",
              "      <td>0.0</td>\n",
              "      <td>0.0</td>\n",
              "      <td>0.0</td>\n",
              "      <td>0.0</td>\n",
              "      <td>0.0</td>\n",
              "      <td>0.0</td>\n",
              "      <td>0.0</td>\n",
              "      <td>0.0</td>\n",
              "      <td>0.0</td>\n",
              "      <td>0.0</td>\n",
              "      <td>0.0</td>\n",
              "      <td>0.0</td>\n",
              "      <td>0.0</td>\n",
              "      <td>0.0</td>\n",
              "      <td>0.0</td>\n",
              "      <td>0.0</td>\n",
              "      <td>0.0</td>\n",
              "    </tr>\n",
              "    <tr>\n",
              "      <th>4</th>\n",
              "      <td>0.0</td>\n",
              "      <td>0.0</td>\n",
              "      <td>1.0</td>\n",
              "      <td>0.0</td>\n",
              "      <td>0.0</td>\n",
              "      <td>0.0</td>\n",
              "      <td>0.0</td>\n",
              "      <td>0.0</td>\n",
              "      <td>0.0</td>\n",
              "      <td>0.0</td>\n",
              "      <td>0.0</td>\n",
              "      <td>0.0</td>\n",
              "      <td>0.0</td>\n",
              "      <td>0.0</td>\n",
              "      <td>0.0</td>\n",
              "      <td>0.0</td>\n",
              "      <td>0.0</td>\n",
              "      <td>0.0</td>\n",
              "      <td>0.0</td>\n",
              "      <td>0.0</td>\n",
              "      <td>0.0</td>\n",
              "      <td>0.0</td>\n",
              "      <td>0.0</td>\n",
              "      <td>0.0</td>\n",
              "      <td>0.0</td>\n",
              "      <td>0.0</td>\n",
              "    </tr>\n",
              "    <tr>\n",
              "      <th>...</th>\n",
              "      <td>...</td>\n",
              "      <td>...</td>\n",
              "      <td>...</td>\n",
              "      <td>...</td>\n",
              "      <td>...</td>\n",
              "      <td>...</td>\n",
              "      <td>...</td>\n",
              "      <td>...</td>\n",
              "      <td>...</td>\n",
              "      <td>...</td>\n",
              "      <td>...</td>\n",
              "      <td>...</td>\n",
              "      <td>...</td>\n",
              "      <td>...</td>\n",
              "      <td>...</td>\n",
              "      <td>...</td>\n",
              "      <td>...</td>\n",
              "      <td>...</td>\n",
              "      <td>...</td>\n",
              "      <td>...</td>\n",
              "      <td>...</td>\n",
              "      <td>...</td>\n",
              "      <td>...</td>\n",
              "      <td>...</td>\n",
              "      <td>...</td>\n",
              "      <td>...</td>\n",
              "    </tr>\n",
              "    <tr>\n",
              "      <th>809</th>\n",
              "      <td>0.0</td>\n",
              "      <td>0.0</td>\n",
              "      <td>0.0</td>\n",
              "      <td>0.0</td>\n",
              "      <td>0.0</td>\n",
              "      <td>0.0</td>\n",
              "      <td>0.0</td>\n",
              "      <td>0.0</td>\n",
              "      <td>0.0</td>\n",
              "      <td>0.0</td>\n",
              "      <td>0.0</td>\n",
              "      <td>0.0</td>\n",
              "      <td>0.0</td>\n",
              "      <td>0.0</td>\n",
              "      <td>0.0</td>\n",
              "      <td>0.0</td>\n",
              "      <td>1.0</td>\n",
              "      <td>0.0</td>\n",
              "      <td>0.0</td>\n",
              "      <td>0.0</td>\n",
              "      <td>0.0</td>\n",
              "      <td>0.0</td>\n",
              "      <td>0.0</td>\n",
              "      <td>0.0</td>\n",
              "      <td>0.0</td>\n",
              "      <td>0.0</td>\n",
              "    </tr>\n",
              "    <tr>\n",
              "      <th>810</th>\n",
              "      <td>0.0</td>\n",
              "      <td>0.0</td>\n",
              "      <td>0.0</td>\n",
              "      <td>0.0</td>\n",
              "      <td>0.0</td>\n",
              "      <td>1.0</td>\n",
              "      <td>0.0</td>\n",
              "      <td>0.0</td>\n",
              "      <td>0.0</td>\n",
              "      <td>0.0</td>\n",
              "      <td>0.0</td>\n",
              "      <td>0.0</td>\n",
              "      <td>0.0</td>\n",
              "      <td>0.0</td>\n",
              "      <td>0.0</td>\n",
              "      <td>0.0</td>\n",
              "      <td>0.0</td>\n",
              "      <td>0.0</td>\n",
              "      <td>0.0</td>\n",
              "      <td>0.0</td>\n",
              "      <td>0.0</td>\n",
              "      <td>0.0</td>\n",
              "      <td>0.0</td>\n",
              "      <td>0.0</td>\n",
              "      <td>0.0</td>\n",
              "      <td>0.0</td>\n",
              "    </tr>\n",
              "    <tr>\n",
              "      <th>811</th>\n",
              "      <td>0.0</td>\n",
              "      <td>0.0</td>\n",
              "      <td>0.0</td>\n",
              "      <td>0.0</td>\n",
              "      <td>0.0</td>\n",
              "      <td>0.0</td>\n",
              "      <td>0.0</td>\n",
              "      <td>0.0</td>\n",
              "      <td>1.0</td>\n",
              "      <td>0.0</td>\n",
              "      <td>0.0</td>\n",
              "      <td>0.0</td>\n",
              "      <td>0.0</td>\n",
              "      <td>0.0</td>\n",
              "      <td>0.0</td>\n",
              "      <td>0.0</td>\n",
              "      <td>0.0</td>\n",
              "      <td>0.0</td>\n",
              "      <td>0.0</td>\n",
              "      <td>0.0</td>\n",
              "      <td>0.0</td>\n",
              "      <td>0.0</td>\n",
              "      <td>0.0</td>\n",
              "      <td>0.0</td>\n",
              "      <td>0.0</td>\n",
              "      <td>0.0</td>\n",
              "    </tr>\n",
              "    <tr>\n",
              "      <th>812</th>\n",
              "      <td>0.0</td>\n",
              "      <td>1.0</td>\n",
              "      <td>0.0</td>\n",
              "      <td>0.0</td>\n",
              "      <td>0.0</td>\n",
              "      <td>0.0</td>\n",
              "      <td>0.0</td>\n",
              "      <td>0.0</td>\n",
              "      <td>0.0</td>\n",
              "      <td>0.0</td>\n",
              "      <td>0.0</td>\n",
              "      <td>0.0</td>\n",
              "      <td>0.0</td>\n",
              "      <td>0.0</td>\n",
              "      <td>0.0</td>\n",
              "      <td>0.0</td>\n",
              "      <td>0.0</td>\n",
              "      <td>0.0</td>\n",
              "      <td>0.0</td>\n",
              "      <td>0.0</td>\n",
              "      <td>0.0</td>\n",
              "      <td>0.0</td>\n",
              "      <td>0.0</td>\n",
              "      <td>0.0</td>\n",
              "      <td>0.0</td>\n",
              "      <td>0.0</td>\n",
              "    </tr>\n",
              "    <tr>\n",
              "      <th>813</th>\n",
              "      <td>0.0</td>\n",
              "      <td>0.0</td>\n",
              "      <td>0.0</td>\n",
              "      <td>0.0</td>\n",
              "      <td>0.0</td>\n",
              "      <td>0.0</td>\n",
              "      <td>0.0</td>\n",
              "      <td>0.0</td>\n",
              "      <td>0.0</td>\n",
              "      <td>0.0</td>\n",
              "      <td>0.0</td>\n",
              "      <td>0.0</td>\n",
              "      <td>0.0</td>\n",
              "      <td>0.0</td>\n",
              "      <td>0.0</td>\n",
              "      <td>0.0</td>\n",
              "      <td>0.0</td>\n",
              "      <td>0.0</td>\n",
              "      <td>0.0</td>\n",
              "      <td>0.0</td>\n",
              "      <td>0.0</td>\n",
              "      <td>0.0</td>\n",
              "      <td>0.0</td>\n",
              "      <td>0.0</td>\n",
              "      <td>0.0</td>\n",
              "      <td>0.0</td>\n",
              "    </tr>\n",
              "  </tbody>\n",
              "</table>\n",
              "<p>814 rows × 26 columns</p>\n",
              "</div>"
            ],
            "text/plain": [
              "      0    1    2    3    4    5    6   ...   19   20   21   22   23   24   25\n",
              "0    0.0  0.0  0.0  0.0  0.0  0.0  0.0  ...  0.0  0.0  0.0  0.0  0.0  0.0  0.0\n",
              "1    0.0  1.0  0.0  0.0  0.0  0.0  0.0  ...  0.0  0.0  0.0  0.0  0.0  0.0  0.0\n",
              "2    0.0  0.0  0.0  0.0  0.0  0.0  0.0  ...  0.0  0.0  0.0  0.0  0.0  0.0  0.0\n",
              "3    0.0  0.0  0.0  0.0  0.0  0.0  0.0  ...  0.0  0.0  0.0  0.0  0.0  0.0  0.0\n",
              "4    0.0  0.0  1.0  0.0  0.0  0.0  0.0  ...  0.0  0.0  0.0  0.0  0.0  0.0  0.0\n",
              "..   ...  ...  ...  ...  ...  ...  ...  ...  ...  ...  ...  ...  ...  ...  ...\n",
              "809  0.0  0.0  0.0  0.0  0.0  0.0  0.0  ...  0.0  0.0  0.0  0.0  0.0  0.0  0.0\n",
              "810  0.0  0.0  0.0  0.0  0.0  1.0  0.0  ...  0.0  0.0  0.0  0.0  0.0  0.0  0.0\n",
              "811  0.0  0.0  0.0  0.0  0.0  0.0  0.0  ...  0.0  0.0  0.0  0.0  0.0  0.0  0.0\n",
              "812  0.0  1.0  0.0  0.0  0.0  0.0  0.0  ...  0.0  0.0  0.0  0.0  0.0  0.0  0.0\n",
              "813  0.0  0.0  0.0  0.0  0.0  0.0  0.0  ...  0.0  0.0  0.0  0.0  0.0  0.0  0.0\n",
              "\n",
              "[814 rows x 26 columns]"
            ]
          },
          "metadata": {},
          "execution_count": 11
        }
      ]
    },
    {
      "cell_type": "markdown",
      "metadata": {
        "id": "IJW1uisSpyUs"
      },
      "source": [
        "***sklearn.preprocessing.OneHotEncoder***"
      ]
    },
    {
      "cell_type": "code",
      "metadata": {
        "id": "_zsxI8O1p001",
        "outputId": "bbe21f54-7805-446d-af58-707976de7a7f",
        "colab": {
          "base_uri": "https://localhost:8080/"
        }
      },
      "source": [
        "import numpy as np\n",
        "from sklearn.preprocessing import LabelEncoder\n",
        "from sklearn.preprocessing import OneHotEncoder\n",
        "\n",
        "values = np.array(TOKENLIST)\n",
        "print(values)\n",
        "label_encoder = LabelEncoder()\n",
        "my_int_encoded = label_encoder.fit_transform(values)\n",
        "print(my_int_encoded)\n",
        "onehot_encoder = OneHotEncoder(sparse=False)\n",
        "my_int_encoded = my_int_encoded.reshape(len(my_int_encoded), 1)\n",
        "onehot_encoded_values = onehot_encoder.fit_transform(my_int_encoded)\n",
        "print(onehot_encoded_values)\n",
        "inverted_values = label_encoder.inverse_transform([np.argmax(onehot_encoded_values[0, :])])\n",
        "print(inverted_values)\n",
        "\n",
        "from keras.preprocessing.text import one_hot\n",
        "from keras.preprocessing.text import text_to_word_sequence\n",
        "words = set(text_to_word_sequence(DATA[0]))\n",
        "vocab_size = len(words)\n",
        "print(vocab_size)\n",
        "result = one_hot(DATA[0], round(vocab_size))\n",
        "print(result)"
      ],
      "execution_count": 12,
      "outputs": [
        {
          "output_type": "stream",
          "name": "stdout",
          "text": [
            "['perhaps' 'one' 'of' 'the' 'most' 'significant' 'advances' 'made' 'by'\n",
            " 'arabic' 'mathematics' 'began' 'at' 'this' 'time' 'with' 'the' 'work'\n",
            " 'of' 'alkhwarizmi' 'namely' 'the' 'beginnings' 'of' 'algebra' 'it' 'is'\n",
            " 'important' 'to' 'understand' 'just' 'how' 'significant' 'this' 'new'\n",
            " 'idea' 'was' 'it' 'was' 'a' 'revolutionary' 'move' 'away' 'from' 'the'\n",
            " 'greek' 'concept' 'of' 'mathematics' 'which' 'was' 'essentially'\n",
            " 'geometry' 'algebra' 'was' 'a' 'unifying' 'theory' 'which' 'allowed'\n",
            " 'rational' 'numbers' 'irrational' 'numbers' 'geometrical' 'magnitudes'\n",
            " 'etc' 'to' 'all' 'be' 'treated' 'as' 'algebraic' 'objects' 'it' 'gave'\n",
            " 'mathematics' 'a' 'whole' 'new' 'development' 'path' 'so' 'much'\n",
            " 'broader' 'in' 'concept' 'to' 'that' 'which' 'had' 'existed' 'before'\n",
            " 'and' 'provided' 'a' 'vehicle' 'for' 'future' 'development' 'of' 'the'\n",
            " 'subject' 'another' 'important' 'aspect' 'of' 'the' 'introduction' 'of'\n",
            " 'algebraic' 'ideas' 'was' 'that' 'it' 'allowed' 'mathematics' 'to' 'be'\n",
            " 'applied' 'to' 'itself' 'in' 'a' 'way' 'which' 'had' 'not' 'happened'\n",
            " 'before']\n",
            "[60 58 57 68 49 64  1 46 20 10 48 17 13 70 71 81 68 82 57  4 52 68 18 57\n",
            "  2 43 42 38 72 74 45 35 64 70 53 36 77 43 77  0 63 50 14 27 68 32 21 57\n",
            " 48 79 77 23 31  2 77  0 75 69 79  6 62 55 41 55 30 47 24 72  5 15 73 11\n",
            "  3 56 43 29 48  0 80 53 22 59 65 51 19 39 21 72 67 79 33 25 16  7 61  0\n",
            " 76 26 28 22 57 68 66  8 38 12 57 68 40 57  3 37 77 67 43  6 48 72 15  9\n",
            " 72 44 39  0 78 79 33 54 34 16]\n",
            "[[0. 0. 0. ... 0. 0. 0.]\n",
            " [0. 0. 0. ... 0. 0. 0.]\n",
            " [0. 0. 0. ... 0. 0. 0.]\n",
            " ...\n",
            " [0. 0. 0. ... 0. 0. 0.]\n",
            " [0. 0. 0. ... 0. 0. 0.]\n",
            " [0. 0. 0. ... 0. 0. 0.]]\n",
            "['perhaps']\n",
            "84\n",
            "[32, 42, 80, 56, 58, 8, 76, 81, 83, 73, 25, 49, 55, 43, 47, 29, 56, 73, 80, 67, 21, 15, 56, 37, 80, 8, 27, 77, 35, 26, 19, 49, 52, 8, 43, 13, 16, 60, 27, 60, 81, 61, 43, 17, 61, 56, 13, 53, 80, 25, 80, 60, 40, 28, 8, 60, 81, 22, 55, 80, 55, 58, 82, 34, 82, 24, 16, 6, 26, 18, 61, 31, 9, 37, 40, 27, 41, 25, 81, 73, 13, 64, 33, 55, 20, 80, 43, 53, 26, 76, 80, 50, 28, 37, 81, 9, 81, 63, 61, 16, 64, 80, 56, 57, 17, 35, 24, 80, 56, 38, 80, 37, 48, 60, 76, 27, 55, 25, 26, 61, 18, 26, 31, 43, 81, 42, 80, 50, 20, 68, 37]\n"
          ]
        }
      ]
    }
  ]
}