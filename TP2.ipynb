{
  "nbformat": 4,
  "nbformat_minor": 0,
  "metadata": {
    "colab": {
      "name": "Untitled6.ipynb",
      "provenance": []
    },
    "kernelspec": {
      "name": "python3",
      "display_name": "Python 3"
    },
    "language_info": {
      "name": "python"
    }
  },
  "cells": [
    {
      "cell_type": "markdown",
      "metadata": {
        "id": "ezbkFtgskswW"
      },
      "source": [
        "# **TF IDF | TFIDF**"
      ]
    },
    {
      "cell_type": "code",
      "metadata": {
        "id": "UjyKxTYeeRyd"
      },
      "source": [
        "import pandas as pd\n",
        "from sklearn.feature_extraction.text import TfidfVectorizer"
      ],
      "execution_count": 10,
      "outputs": []
    },
    {
      "cell_type": "code",
      "metadata": {
        "id": "ckzutnjAeU3t"
      },
      "source": [
        "text=\"Perhaps one of the most significant advances made by Arabic  mathematics began at this time with the work of al-Khwarizmi, namely the beginnings of algebra. It is important to understand just how significant this new idea was. It was a revolutionary move away from the Greek concept of mathematics which was essentially geometry. Algebra was a unifying theory which allowed rational numbers,irrational numbers, geometrical magnitudes, etc., to all be treated as \\\"algebraic objects\\\". It gave mathematics a whole new development path so much broader in concept to that which had existed before, and provided a vehicle for future development of the subject. Another important aspect of the introduction of algebraic ideas was that it allowed mathematics to be applied to itselfin a way which had not happened before.\"\n"
      ],
      "execution_count": 89,
      "outputs": []
    },
    {
      "cell_type": "markdown",
      "metadata": {
        "id": "SJDjVfW_k1SN"
      },
      "source": [
        "***bag of words***"
      ]
    },
    {
      "cell_type": "code",
      "metadata": {
        "colab": {
          "base_uri": "https://localhost:8080/"
        },
        "id": "eT3JFpY6eXpV",
        "outputId": "71fb101e-a7fd-460b-fb88-964de2db11e1"
      },
      "source": [
        "bagOfWords = text.split(' ')\n",
        "print(bagOfWords)"
      ],
      "execution_count": 90,
      "outputs": [
        {
          "output_type": "stream",
          "text": [
            "['Perhaps', 'one', 'of', 'the', 'most', 'significant', 'advances', 'made', 'by', 'Arabic', '', 'mathematics', 'began', 'at', 'this', 'time', 'with', 'the', 'work', 'of', 'al-Khwarizmi,', 'namely', 'the', 'beginnings', 'of', 'algebra.', 'It', 'is', 'important', 'to', 'understand', 'just', 'how', 'significant', 'this', 'new', 'idea', 'was.', 'It', 'was', 'a', 'revolutionary', 'move', 'away', 'from', 'the', 'Greek', 'concept', 'of', 'mathematics', 'which', 'was', 'essentially', 'geometry.', 'Algebra', 'was', 'a', 'unifying', 'theory', 'which', 'allowed', 'rational', 'numbers,irrational', 'numbers,', 'geometrical', 'magnitudes,', 'etc.,', 'to', 'all', 'be', 'treated', 'as', '\"algebraic', 'objects\".', 'It', 'gave', 'mathematics', 'a', 'whole', 'new', 'development', 'path', 'so', 'much', 'broader', 'in', 'concept', 'to', 'that', 'which', 'had', 'existed', 'before,', 'and', 'provided', 'a', 'vehicle', 'for', 'future', 'development', 'of', 'the', 'subject.', 'Another', 'important', 'aspect', 'of', 'the', 'introduction', 'of', 'algebraic', 'ideas', 'was', 'that', 'it', 'allowed', 'mathematics', 'to', 'be', 'applied', 'to', 'itselfin', 'a', 'way', 'which', 'had', 'not', 'happened', 'before.']\n"
          ],
          "name": "stdout"
        }
      ]
    },
    {
      "cell_type": "markdown",
      "metadata": {
        "id": "1P_C08jAlYJ3"
      },
      "source": [
        "***we’ll create a dictionary of words and their occurence for each word in the text***"
      ]
    },
    {
      "cell_type": "code",
      "metadata": {
        "colab": {
          "base_uri": "https://localhost:8080/"
        },
        "id": "Hfm4ftn-ej69",
        "outputId": "47d03d4c-880f-4d85-d7ca-113b0277ca40"
      },
      "source": [
        "numOfWords = dict.fromkeys(bagOfWords,0)\n",
        "for word in bagOfWords:\n",
        "    numOfWords[word] += 1\n",
        "print(numOfWords)"
      ],
      "execution_count": 91,
      "outputs": [
        {
          "output_type": "stream",
          "text": [
            "{'Perhaps': 1, 'one': 1, 'of': 7, 'the': 6, 'most': 1, 'significant': 2, 'advances': 1, 'made': 1, 'by': 1, 'Arabic': 1, '': 1, 'mathematics': 4, 'began': 1, 'at': 1, 'this': 2, 'time': 1, 'with': 1, 'work': 1, 'al-Khwarizmi,': 1, 'namely': 1, 'beginnings': 1, 'algebra.': 1, 'It': 3, 'is': 1, 'important': 2, 'to': 5, 'understand': 1, 'just': 1, 'how': 1, 'new': 2, 'idea': 1, 'was.': 1, 'was': 4, 'a': 5, 'revolutionary': 1, 'move': 1, 'away': 1, 'from': 1, 'Greek': 1, 'concept': 2, 'which': 4, 'essentially': 1, 'geometry.': 1, 'Algebra': 1, 'unifying': 1, 'theory': 1, 'allowed': 2, 'rational': 1, 'numbers,irrational': 1, 'numbers,': 1, 'geometrical': 1, 'magnitudes,': 1, 'etc.,': 1, 'all': 1, 'be': 2, 'treated': 1, 'as': 1, '\"algebraic': 1, 'objects\".': 1, 'gave': 1, 'whole': 1, 'development': 2, 'path': 1, 'so': 1, 'much': 1, 'broader': 1, 'in': 1, 'that': 2, 'had': 2, 'existed': 1, 'before,': 1, 'and': 1, 'provided': 1, 'vehicle': 1, 'for': 1, 'future': 1, 'subject.': 1, 'Another': 1, 'aspect': 1, 'introduction': 1, 'algebraic': 1, 'ideas': 1, 'it': 1, 'applied': 1, 'itselfin': 1, 'way': 1, 'not': 1, 'happened': 1, 'before.': 1}\n"
          ],
          "name": "stdout"
        }
      ]
    },
    {
      "cell_type": "code",
      "metadata": {
        "colab": {
          "base_uri": "https://localhost:8080/"
        },
        "id": "roECAhHVe1pG",
        "outputId": "48836779-4f2a-48f1-a6bb-4e4d5ea53cea"
      },
      "source": [
        "from nltk.corpus import stopwords\n",
        "stopwords.words('english')"
      ],
      "execution_count": 56,
      "outputs": [
        {
          "output_type": "execute_result",
          "data": {
            "text/plain": [
              "['i',\n",
              " 'me',\n",
              " 'my',\n",
              " 'myself',\n",
              " 'we',\n",
              " 'our',\n",
              " 'ours',\n",
              " 'ourselves',\n",
              " 'you',\n",
              " \"you're\",\n",
              " \"you've\",\n",
              " \"you'll\",\n",
              " \"you'd\",\n",
              " 'your',\n",
              " 'yours',\n",
              " 'yourself',\n",
              " 'yourselves',\n",
              " 'he',\n",
              " 'him',\n",
              " 'his',\n",
              " 'himself',\n",
              " 'she',\n",
              " \"she's\",\n",
              " 'her',\n",
              " 'hers',\n",
              " 'herself',\n",
              " 'it',\n",
              " \"it's\",\n",
              " 'its',\n",
              " 'itself',\n",
              " 'they',\n",
              " 'them',\n",
              " 'their',\n",
              " 'theirs',\n",
              " 'themselves',\n",
              " 'what',\n",
              " 'which',\n",
              " 'who',\n",
              " 'whom',\n",
              " 'this',\n",
              " 'that',\n",
              " \"that'll\",\n",
              " 'these',\n",
              " 'those',\n",
              " 'am',\n",
              " 'is',\n",
              " 'are',\n",
              " 'was',\n",
              " 'were',\n",
              " 'be',\n",
              " 'been',\n",
              " 'being',\n",
              " 'have',\n",
              " 'has',\n",
              " 'had',\n",
              " 'having',\n",
              " 'do',\n",
              " 'does',\n",
              " 'did',\n",
              " 'doing',\n",
              " 'a',\n",
              " 'an',\n",
              " 'the',\n",
              " 'and',\n",
              " 'but',\n",
              " 'if',\n",
              " 'or',\n",
              " 'because',\n",
              " 'as',\n",
              " 'until',\n",
              " 'while',\n",
              " 'of',\n",
              " 'at',\n",
              " 'by',\n",
              " 'for',\n",
              " 'with',\n",
              " 'about',\n",
              " 'against',\n",
              " 'between',\n",
              " 'into',\n",
              " 'through',\n",
              " 'during',\n",
              " 'before',\n",
              " 'after',\n",
              " 'above',\n",
              " 'below',\n",
              " 'to',\n",
              " 'from',\n",
              " 'up',\n",
              " 'down',\n",
              " 'in',\n",
              " 'out',\n",
              " 'on',\n",
              " 'off',\n",
              " 'over',\n",
              " 'under',\n",
              " 'again',\n",
              " 'further',\n",
              " 'then',\n",
              " 'once',\n",
              " 'here',\n",
              " 'there',\n",
              " 'when',\n",
              " 'where',\n",
              " 'why',\n",
              " 'how',\n",
              " 'all',\n",
              " 'any',\n",
              " 'both',\n",
              " 'each',\n",
              " 'few',\n",
              " 'more',\n",
              " 'most',\n",
              " 'other',\n",
              " 'some',\n",
              " 'such',\n",
              " 'no',\n",
              " 'nor',\n",
              " 'not',\n",
              " 'only',\n",
              " 'own',\n",
              " 'same',\n",
              " 'so',\n",
              " 'than',\n",
              " 'too',\n",
              " 'very',\n",
              " 's',\n",
              " 't',\n",
              " 'can',\n",
              " 'will',\n",
              " 'just',\n",
              " 'don',\n",
              " \"don't\",\n",
              " 'should',\n",
              " \"should've\",\n",
              " 'now',\n",
              " 'd',\n",
              " 'll',\n",
              " 'm',\n",
              " 'o',\n",
              " 're',\n",
              " 've',\n",
              " 'y',\n",
              " 'ain',\n",
              " 'aren',\n",
              " \"aren't\",\n",
              " 'couldn',\n",
              " \"couldn't\",\n",
              " 'didn',\n",
              " \"didn't\",\n",
              " 'doesn',\n",
              " \"doesn't\",\n",
              " 'hadn',\n",
              " \"hadn't\",\n",
              " 'hasn',\n",
              " \"hasn't\",\n",
              " 'haven',\n",
              " \"haven't\",\n",
              " 'isn',\n",
              " \"isn't\",\n",
              " 'ma',\n",
              " 'mightn',\n",
              " \"mightn't\",\n",
              " 'mustn',\n",
              " \"mustn't\",\n",
              " 'needn',\n",
              " \"needn't\",\n",
              " 'shan',\n",
              " \"shan't\",\n",
              " 'shouldn',\n",
              " \"shouldn't\",\n",
              " 'wasn',\n",
              " \"wasn't\",\n",
              " 'weren',\n",
              " \"weren't\",\n",
              " 'won',\n",
              " \"won't\",\n",
              " 'wouldn',\n",
              " \"wouldn't\"]"
            ]
          },
          "metadata": {
            "tags": []
          },
          "execution_count": 56
        }
      ]
    },
    {
      "cell_type": "markdown",
      "metadata": {
        "id": "RTfAL6-le7vO"
      },
      "source": [
        "***Term Frequency (TF)***"
      ]
    },
    {
      "cell_type": "code",
      "metadata": {
        "id": "b1x8xAmRe9Nl"
      },
      "source": [
        "def computeTF(wordDict, bagOfWords):\n",
        "    tfDict = {}\n",
        "    bagOfWordsCount = len(bagOfWords)\n",
        "    for word, count in wordDict.items():\n",
        "        tfDict[word] = count / float(bagOfWordsCount)\n",
        "    return tfDict"
      ],
      "execution_count": 57,
      "outputs": []
    },
    {
      "cell_type": "code",
      "metadata": {
        "colab": {
          "base_uri": "https://localhost:8080/"
        },
        "id": "mLHhTMtYfGRd",
        "outputId": "55545b64-fc08-47f6-94e2-84d1dd993ac8"
      },
      "source": [
        "tf = computeTF(numOfWords, bagOfWords)\n",
        "print(tf)"
      ],
      "execution_count": 58,
      "outputs": [
        {
          "output_type": "stream",
          "text": [
            "{'Perhaps': 0.007692307692307693, 'one': 0.015384615384615385, 'of': 0.05384615384615385, 'the': 0.046153846153846156, 'most': 0.007692307692307693, 'significant': 0.015384615384615385, 'advances': 0.007692307692307693, 'made': 0.007692307692307693, 'by': 0.007692307692307693, 'Arabic': 0.007692307692307693, '': 0.007692307692307693, 'mathematics': 0.03076923076923077, 'began': 0.007692307692307693, 'at': 0.007692307692307693, 'this': 0.015384615384615385, 'time': 0.007692307692307693, 'with': 0.007692307692307693, 'work': 0.007692307692307693, 'al-Khwarizmi,': 0.007692307692307693, 'namely': 0.007692307692307693, 'beginnings': 0.007692307692307693, 'algebra.': 0.007692307692307693, 'It': 0.023076923076923078, 'is': 0.007692307692307693, 'important': 0.015384615384615385, 'to': 0.038461538461538464, 'understand': 0.007692307692307693, 'just': 0.007692307692307693, 'how': 0.007692307692307693, 'new': 0.015384615384615385, 'idea': 0.007692307692307693, 'was.': 0.007692307692307693, 'was': 0.03076923076923077, 'a': 0.038461538461538464, 'revolutionary': 0.007692307692307693, 'move': 0.007692307692307693, 'away': 0.007692307692307693, 'from': 0.007692307692307693, 'Greek': 0.007692307692307693, 'concept': 0.015384615384615385, 'which': 0.03076923076923077, 'essentially': 0.007692307692307693, 'geometry.': 0.007692307692307693, 'Algebra': 0.007692307692307693, 'unifying': 0.007692307692307693, 'theory': 0.007692307692307693, 'allowed': 0.015384615384615385, 'rational': 0.007692307692307693, 'numbers,irrational': 0.007692307692307693, 'numbers,': 0.007692307692307693, 'geometrical': 0.007692307692307693, 'magnitudes,': 0.007692307692307693, 'etc.,': 0.007692307692307693, 'all': 0.007692307692307693, 'be': 0.015384615384615385, 'treated': 0.007692307692307693, 'as': 0.007692307692307693, '\"algebraic': 0.007692307692307693, 'objects\".': 0.007692307692307693, 'gave': 0.007692307692307693, 'whole': 0.007692307692307693, 'development': 0.015384615384615385, 'path': 0.007692307692307693, 'so': 0.007692307692307693, 'much': 0.007692307692307693, 'broader': 0.007692307692307693, 'in': 0.007692307692307693, 'that': 0.015384615384615385, 'had': 0.015384615384615385, 'existed': 0.007692307692307693, 'before,': 0.007692307692307693, 'and': 0.007692307692307693, 'provided': 0.007692307692307693, 'vehicle': 0.007692307692307693, 'for': 0.007692307692307693, 'future': 0.007692307692307693, 'subject.': 0.007692307692307693, 'Another': 0.007692307692307693, 'aspect': 0.007692307692307693, 'introduction': 0.007692307692307693, 'algebraic': 0.007692307692307693, 'ideas': 0.007692307692307693, 'it': 0.007692307692307693, 'applied': 0.007692307692307693, 'itselfin': 0.007692307692307693, 'way': 0.007692307692307693, 'not': 0.007692307692307693, 'happened': 0.007692307692307693, 'before.': 0.007692307692307693}\n"
          ],
          "name": "stdout"
        }
      ]
    },
    {
      "cell_type": "markdown",
      "metadata": {
        "id": "I04RPo4ifMy9"
      },
      "source": [
        "***Inverse Data Frequency (IDF)***"
      ]
    },
    {
      "cell_type": "code",
      "metadata": {
        "id": "TH8yYyUkfSJ2"
      },
      "source": [
        "def computeIDF(documents):\n",
        "    import math\n",
        "    N = len(documents)\n",
        "    \n",
        "    idfDict = dict.fromkeys(documents[0].keys(), 0)\n",
        "    for document in documents:\n",
        "        for word, val in document.items():\n",
        "            if val > 0:\n",
        "                idfDict[word] += 1\n",
        "    \n",
        "    for word, val in idfDict.items():\n",
        "        idfDict[word] = math.log(N / float(val))\n",
        "    return idfDict\n"
      ],
      "execution_count": 59,
      "outputs": []
    },
    {
      "cell_type": "code",
      "metadata": {
        "id": "-RvLtwk0fWqu"
      },
      "source": [
        "idfs = computeIDF([numOfWords)\n"
      ],
      "execution_count": 60,
      "outputs": []
    },
    {
      "cell_type": "markdown",
      "metadata": {
        "id": "8vPUvFECmsK1"
      },
      "source": [
        "***TF-IDF is simply the TF multiplied by IDF***"
      ]
    },
    {
      "cell_type": "code",
      "metadata": {
        "id": "0RMoPZHLfwo_"
      },
      "source": [
        "def computeTFIDF(tfBagOfWords, idfs):\n",
        "    tfidf = {}\n",
        "    for word, val in tfBagOfWords.items():\n",
        "        tfidf[word] = val * idfs[word]\n",
        "    return tfidf"
      ],
      "execution_count": 103,
      "outputs": []
    },
    {
      "cell_type": "code",
      "metadata": {
        "id": "9MP9r3rzlqb1"
      },
      "source": [
        "tfidf = computeTFIDF(tf, idfs)\n",
        "df = pd.DataFrame([tfidf])"
      ],
      "execution_count": 102,
      "outputs": []
    },
    {
      "cell_type": "code",
      "metadata": {
        "colab": {
          "base_uri": "https://localhost:8080/"
        },
        "id": "6846SsMAfzbF",
        "outputId": "e5179b7f-61cb-4b88-9f1b-5f139c5bce21"
      },
      "source": [
        "vectorizer = TfidfVectorizer()\n",
        "vectors = vectorizer.fit_transform([text])\n",
        "feature_names = vectorizer.get_feature_names()\n",
        "dense = vectors.todense()\n",
        "denselist = dense.tolist()\n",
        "df = pd.DataFrame(denselist, columns=feature_names)\n",
        "print(df)"
      ],
      "execution_count": 104,
      "outputs": [
        {
          "output_type": "stream",
          "text": [
            "   advances        al   algebra  ...     whole      with      work\n",
            "0  0.057639  0.057639  0.115278  ...  0.057639  0.057639  0.057639\n",
            "\n",
            "[1 rows x 83 columns]\n"
          ],
          "name": "stdout"
        }
      ]
    }
  ]
}